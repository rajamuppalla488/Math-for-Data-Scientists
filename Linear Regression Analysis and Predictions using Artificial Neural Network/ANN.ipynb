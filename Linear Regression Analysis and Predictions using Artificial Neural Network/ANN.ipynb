{
 "cells": [
  {
   "cell_type": "code",
   "execution_count": 22,
   "metadata": {},
   "outputs": [],
   "source": [
    "import pandas as pd\n",
    "import numpy as np\n",
    "import matplotlib.pyplot as plt"
   ]
  },
  {
   "cell_type": "code",
   "execution_count": 23,
   "metadata": {},
   "outputs": [
    {
     "data": {
      "text/html": [
       "<div>\n",
       "<style scoped>\n",
       "    .dataframe tbody tr th:only-of-type {\n",
       "        vertical-align: middle;\n",
       "    }\n",
       "\n",
       "    .dataframe tbody tr th {\n",
       "        vertical-align: top;\n",
       "    }\n",
       "\n",
       "    .dataframe thead th {\n",
       "        text-align: right;\n",
       "    }\n",
       "</style>\n",
       "<table border=\"1\" class=\"dataframe\">\n",
       "  <thead>\n",
       "    <tr style=\"text-align: right;\">\n",
       "      <th></th>\n",
       "      <th>0</th>\n",
       "      <th>1</th>\n",
       "      <th>y</th>\n",
       "    </tr>\n",
       "  </thead>\n",
       "  <tbody>\n",
       "    <tr>\n",
       "      <th>0</th>\n",
       "      <td>0.694565</td>\n",
       "      <td>0.426664</td>\n",
       "      <td>0</td>\n",
       "    </tr>\n",
       "    <tr>\n",
       "      <th>1</th>\n",
       "      <td>1.683530</td>\n",
       "      <td>-0.800166</td>\n",
       "      <td>0</td>\n",
       "    </tr>\n",
       "    <tr>\n",
       "      <th>2</th>\n",
       "      <td>-0.250468</td>\n",
       "      <td>0.243922</td>\n",
       "      <td>1</td>\n",
       "    </tr>\n",
       "    <tr>\n",
       "      <th>3</th>\n",
       "      <td>-1.133380</td>\n",
       "      <td>-0.611279</td>\n",
       "      <td>1</td>\n",
       "    </tr>\n",
       "    <tr>\n",
       "      <th>4</th>\n",
       "      <td>1.769056</td>\n",
       "      <td>-0.310254</td>\n",
       "      <td>0</td>\n",
       "    </tr>\n",
       "    <tr>\n",
       "      <th>...</th>\n",
       "      <td>...</td>\n",
       "      <td>...</td>\n",
       "      <td>...</td>\n",
       "    </tr>\n",
       "    <tr>\n",
       "      <th>196</th>\n",
       "      <td>1.419756</td>\n",
       "      <td>0.067688</td>\n",
       "      <td>0</td>\n",
       "    </tr>\n",
       "    <tr>\n",
       "      <th>197</th>\n",
       "      <td>0.344427</td>\n",
       "      <td>0.025001</td>\n",
       "      <td>1</td>\n",
       "    </tr>\n",
       "    <tr>\n",
       "      <th>198</th>\n",
       "      <td>0.349166</td>\n",
       "      <td>1.063136</td>\n",
       "      <td>1</td>\n",
       "    </tr>\n",
       "    <tr>\n",
       "      <th>199</th>\n",
       "      <td>1.454850</td>\n",
       "      <td>-0.060964</td>\n",
       "      <td>0</td>\n",
       "    </tr>\n",
       "    <tr>\n",
       "      <th>200</th>\n",
       "      <td>NaN</td>\n",
       "      <td>NaN</td>\n",
       "      <td>1</td>\n",
       "    </tr>\n",
       "  </tbody>\n",
       "</table>\n",
       "<p>201 rows × 3 columns</p>\n",
       "</div>"
      ],
      "text/plain": [
       "            0         1  y\n",
       "0    0.694565  0.426664  0\n",
       "1    1.683530 -0.800166  0\n",
       "2   -0.250468  0.243922  1\n",
       "3   -1.133380 -0.611279  1\n",
       "4    1.769056 -0.310254  0\n",
       "..        ...       ... ..\n",
       "196  1.419756  0.067688  0\n",
       "197  0.344427  0.025001  1\n",
       "198  0.349166  1.063136  1\n",
       "199  1.454850 -0.060964  0\n",
       "200       NaN       NaN  1\n",
       "\n",
       "[201 rows x 3 columns]"
      ]
     },
     "execution_count": 23,
     "metadata": {},
     "output_type": "execute_result"
    }
   ],
   "source": [
    "df = pd.read_csv('ANN.csv')\n",
    "df"
   ]
  },
  {
   "cell_type": "code",
   "execution_count": 24,
   "metadata": {},
   "outputs": [],
   "source": [
    "dataset = df.values"
   ]
  },
  {
   "cell_type": "code",
   "execution_count": 25,
   "metadata": {},
   "outputs": [],
   "source": [
    "X = dataset[:,0:10]"
   ]
  },
  {
   "cell_type": "code",
   "execution_count": 26,
   "metadata": {},
   "outputs": [],
   "source": [
    "Y = dataset[:,2]"
   ]
  },
  {
   "cell_type": "code",
   "execution_count": 27,
   "metadata": {},
   "outputs": [],
   "source": [
    "from sklearn import preprocessing\n",
    "min_max_scaler = preprocessing.MinMaxScaler()\n",
    "X_scale = min_max_scaler.fit_transform(X)"
   ]
  },
  {
   "cell_type": "code",
   "execution_count": 28,
   "metadata": {},
   "outputs": [
    {
     "data": {
      "text/plain": [
       "array([[0.56210626, 0.58615994, 0.        ],\n",
       "       [0.81041261, 0.13468994, 0.        ],\n",
       "       [0.32483019, 0.51891148, 1.        ],\n",
       "       [0.10315145, 0.20420007, 1.        ],\n",
       "       [0.83188614, 0.31497612, 0.        ],\n",
       "       [0.89043712, 0.36073081, 1.        ],\n",
       "       [0.61662351, 0.60209103, 1.        ],\n",
       "       [0.60919648, 0.25728987, 0.        ],\n",
       "       [0.57604222, 0.55425067, 1.        ],\n",
       "       [0.71464146, 0.16295844, 0.        ],\n",
       "       [0.2876952 , 0.53832316, 1.        ],\n",
       "       [0.38508557, 0.29375177, 0.        ],\n",
       "       [0.83491935, 0.26354871, 1.        ],\n",
       "       [0.78611809, 0.43207865, 1.        ],\n",
       "       [0.18092129, 0.80406839, 1.        ],\n",
       "       [0.64049778, 0.48416349, 0.        ],\n",
       "       [0.57497785, 0.79231859, 0.        ],\n",
       "       [0.38482221, 0.34333143, 0.        ],\n",
       "       [0.43270099, 0.69333183, 1.        ],\n",
       "       [0.09768693, 0.93395298, 0.        ],\n",
       "       [0.93662192, 0.43055915, 0.        ],\n",
       "       [0.60800628, 0.27823849, 1.        ],\n",
       "       [0.51020928, 0.80863999, 1.        ],\n",
       "       [0.70221065, 0.4476392 , 0.        ],\n",
       "       [0.37879916, 0.9543921 , 1.        ],\n",
       "       [0.43230756, 0.56758059, 0.        ],\n",
       "       [0.90819321, 0.38429706, 1.        ],\n",
       "       [0.83708937, 0.39919966, 1.        ],\n",
       "       [0.34381724, 0.50169962, 1.        ],\n",
       "       [0.37853793, 0.59633112, 1.        ],\n",
       "       [0.63276172, 0.68857541, 0.        ],\n",
       "       [0.26213976, 0.47385094, 0.        ],\n",
       "       [0.59295299, 0.32313049, 0.        ],\n",
       "       [0.37584809, 0.56809515, 1.        ],\n",
       "       [0.57731386, 0.73070836, 1.        ],\n",
       "       [0.81861042, 0.5509071 , 0.        ],\n",
       "       [0.54954974, 0.46535088, 1.        ],\n",
       "       [0.59145144, 0.41532807, 1.        ],\n",
       "       [0.21423433, 0.69185321, 0.        ],\n",
       "       [0.30292718, 0.64610831, 0.        ],\n",
       "       [0.56141568, 0.19277289, 1.        ],\n",
       "       [0.35433088, 0.73322341, 1.        ],\n",
       "       [0.52004473, 0.65037553, 0.        ],\n",
       "       [0.43718729, 0.3952701 , 0.        ],\n",
       "       [0.76998019, 0.29008919, 1.        ],\n",
       "       [0.34703569, 0.86420401, 1.        ],\n",
       "       [0.70474564, 0.39119461, 0.        ],\n",
       "       [0.21277889, 0.60512704, 0.        ],\n",
       "       [0.43150832, 0.26608397, 0.        ],\n",
       "       [0.6915392 , 0.29566577, 1.        ],\n",
       "       [0.12903526, 0.77038942, 1.        ],\n",
       "       [0.53488341, 0.34570693, 0.        ],\n",
       "       [1.        , 0.43726445, 1.        ],\n",
       "       [0.27753095, 0.43883328, 1.        ],\n",
       "       [0.72673457, 0.24446938, 0.        ],\n",
       "       [0.61415265, 0.60979312, 1.        ],\n",
       "       [0.48760296, 0.55620527, 0.        ],\n",
       "       [0.59032238, 0.19743209, 0.        ],\n",
       "       [0.39036089, 0.75308217, 1.        ],\n",
       "       [0.33214539, 0.82048548, 0.        ],\n",
       "       [0.3570315 , 0.39931286, 0.        ],\n",
       "       [0.10641901, 0.6139328 , 1.        ],\n",
       "       [0.75980193, 0.22904877, 0.        ],\n",
       "       [0.67069242, 0.55744049, 1.        ],\n",
       "       [0.65026004, 0.30593111, 0.        ],\n",
       "       [0.        , 0.54606742, 1.        ],\n",
       "       [0.32730353, 0.84893839, 0.        ],\n",
       "       [0.81883616, 0.34185026, 0.        ],\n",
       "       [0.49302422, 0.75048083, 1.        ],\n",
       "       [0.12684212, 0.69993683, 0.        ],\n",
       "       [0.53777019, 0.21954902, 0.        ],\n",
       "       [0.09867247, 0.80857689, 1.        ],\n",
       "       [0.31543606, 0.17723517, 0.        ],\n",
       "       [0.18822296, 0.72556076, 1.        ],\n",
       "       [0.5791031 , 0.3756942 , 1.        ],\n",
       "       [0.15198053, 0.68779868, 1.        ],\n",
       "       [0.41671065, 0.43816737, 0.        ],\n",
       "       [0.64991298, 0.54336182, 1.        ],\n",
       "       [0.47988638, 0.76697433, 0.        ],\n",
       "       [0.56599483, 0.46090537, 0.        ],\n",
       "       [0.94906882, 0.46736064, 1.        ],\n",
       "       [0.21763115, 0.75552581, 1.        ],\n",
       "       [0.54176097, 0.1258212 , 0.        ],\n",
       "       [0.90959971, 0.72679248, 1.        ],\n",
       "       [0.38236299, 0.50196806, 1.        ],\n",
       "       [0.33215191, 1.        , 1.        ],\n",
       "       [0.57224495, 0.40468672, 0.        ],\n",
       "       [0.24945141, 0.79862596, 0.        ],\n",
       "       [0.55696913, 0.30464397, 0.        ],\n",
       "       [0.87762972, 0.49491817, 1.        ],\n",
       "       [0.62963225, 0.69611483, 1.        ],\n",
       "       [0.69334538, 0.62920473, 0.        ],\n",
       "       [0.8882472 , 0.38021388, 0.        ],\n",
       "       [0.22304163, 0.7648452 , 1.        ],\n",
       "       [0.90687053, 0.4902289 , 0.        ],\n",
       "       [0.83152927, 0.3928536 , 1.        ],\n",
       "       [0.83923597, 0.27587872, 1.        ],\n",
       "       [0.59644229, 0.29946088, 1.        ],\n",
       "       [0.07621152, 0.61829489, 1.        ],\n",
       "       [0.39442009, 0.36434448, 0.        ],\n",
       "       [0.75759343, 0.        , 1.        ],\n",
       "       [0.89132485, 0.65330823, 1.        ],\n",
       "       [0.45626932, 0.97264145, 1.        ],\n",
       "       [0.68528572, 0.37639832, 0.        ],\n",
       "       [0.27057576, 0.81525549, 0.        ],\n",
       "       [0.44658682, 0.72650868, 0.        ],\n",
       "       [0.14450079, 0.42579884, 1.        ],\n",
       "       [0.23121242, 0.90335859, 0.        ],\n",
       "       [0.80023358, 0.29965704, 0.        ],\n",
       "       [0.40468429, 0.63512716, 1.        ],\n",
       "       [0.23490736, 0.70376941, 0.        ],\n",
       "       [0.42427304, 0.84864926, 0.        ],\n",
       "       [0.29870958, 0.95381148, 0.        ],\n",
       "       [0.23586882, 0.51924982, 0.        ],\n",
       "       [0.63316726, 0.52374867, 0.        ],\n",
       "       [0.84231746, 0.12069386, 0.        ],\n",
       "       [0.36538197, 0.66464001, 1.        ],\n",
       "       [0.91084863, 0.54903748, 0.        ],\n",
       "       [0.56331969, 0.27747313, 1.        ],\n",
       "       [0.49635795, 0.46424077, 1.        ],\n",
       "       [0.58426605, 0.7806518 , 0.        ],\n",
       "       [0.30423911, 0.55651911, 0.        ],\n",
       "       [0.33119454, 0.48495157, 0.        ],\n",
       "       [0.44223754, 0.79306586, 1.        ],\n",
       "       [0.29260884, 0.44079609, 0.        ],\n",
       "       [0.12984323, 0.71155154, 1.        ],\n",
       "       [0.52544436, 0.34634316, 0.        ],\n",
       "       [0.4974149 , 0.5039248 , 0.        ],\n",
       "       [0.6075993 , 0.28746173, 1.        ],\n",
       "       [0.86620588, 0.69136378, 1.        ],\n",
       "       [0.66306054, 0.68058317, 1.        ],\n",
       "       [0.26578045, 0.58098715, 0.        ],\n",
       "       [0.00175412, 0.6287694 , 0.        ],\n",
       "       [0.47177156, 0.30693532, 0.        ],\n",
       "       [0.74373916, 0.41896173, 1.        ],\n",
       "       [0.75261752, 0.54112781, 1.        ],\n",
       "       [0.62036962, 0.41792373, 1.        ],\n",
       "       [0.08250586, 0.44426446, 1.        ],\n",
       "       [0.91798084, 0.62006773, 0.        ],\n",
       "       [0.54637977, 0.66132731, 1.        ],\n",
       "       [0.31958391, 0.5258991 , 0.        ],\n",
       "       [0.36647976, 0.66504003, 1.        ],\n",
       "       [0.50161986, 0.86919638, 1.        ],\n",
       "       [0.14597715, 0.81190052, 0.        ],\n",
       "       [0.32009021, 0.7585736 , 0.        ],\n",
       "       [0.66253779, 0.51842802, 0.        ],\n",
       "       [0.49134033, 0.62556699, 0.        ],\n",
       "       [0.68253174, 0.22326958, 1.        ],\n",
       "       [0.47474292, 0.89439171, 1.        ],\n",
       "       [0.36311322, 0.35009739, 0.        ],\n",
       "       [0.51020201, 0.25505723, 1.        ],\n",
       "       [0.81247871, 0.09296174, 1.        ],\n",
       "       [0.58454624, 0.49148453, 1.        ],\n",
       "       [0.45517995, 0.71107045, 0.        ],\n",
       "       [0.64494083, 0.32809776, 0.        ],\n",
       "       [0.25843582, 0.7343288 , 1.        ],\n",
       "       [0.73248006, 0.25068956, 0.        ],\n",
       "       [0.42922809, 0.53930202, 1.        ],\n",
       "       [0.58769755, 0.90213441, 1.        ],\n",
       "       [0.56388948, 0.71703069, 0.        ],\n",
       "       [0.50342586, 0.4039556 , 0.        ],\n",
       "       [0.74746564, 0.22865296, 1.        ],\n",
       "       [0.60179873, 0.74663658, 1.        ],\n",
       "       [0.73792593, 0.38013506, 0.        ],\n",
       "       [0.55390707, 0.08549573, 1.        ],\n",
       "       [0.71615925, 0.53003978, 1.        ],\n",
       "       [0.44218823, 0.75453479, 1.        ],\n",
       "       [0.49193946, 0.36458176, 0.        ],\n",
       "       [0.76052913, 0.23824748, 1.        ],\n",
       "       [0.64808908, 0.07356846, 1.        ],\n",
       "       [0.55241585, 0.81599473, 1.        ],\n",
       "       [0.02908231, 0.48808683, 0.        ],\n",
       "       [0.08928122, 0.64597236, 0.        ],\n",
       "       [0.27143902, 0.48246603, 0.        ],\n",
       "       [0.46943544, 0.4179077 , 0.        ],\n",
       "       [0.61359347, 0.35723159, 1.        ],\n",
       "       [0.67890256, 0.75385899, 1.        ],\n",
       "       [0.20309077, 0.56398037, 1.        ],\n",
       "       [0.24027743, 0.57015608, 0.        ],\n",
       "       [0.41317983, 0.71973087, 0.        ],\n",
       "       [0.76054288, 0.30211826, 0.        ],\n",
       "       [0.10667835, 0.55745722, 1.        ],\n",
       "       [0.85850305, 0.54036054, 0.        ],\n",
       "       [0.94335807, 0.21395452, 1.        ],\n",
       "       [0.86736156, 0.61430127, 1.        ],\n",
       "       [0.48135869, 0.85544441, 1.        ],\n",
       "       [0.46788189, 0.62535522, 0.        ],\n",
       "       [0.66602111, 0.12352395, 0.        ],\n",
       "       [0.23115366, 0.61008605, 1.        ],\n",
       "       [0.20062924, 0.71119038, 0.        ],\n",
       "       [0.15206436, 0.60099637, 0.        ],\n",
       "       [0.50567204, 0.81479737, 0.        ],\n",
       "       [0.61906384, 0.47522223, 0.        ],\n",
       "       [0.59927213, 0.50938066, 0.        ],\n",
       "       [0.35779082, 0.50917233, 0.        ],\n",
       "       [0.2416214 , 0.76512389, 1.        ],\n",
       "       [0.74418502, 0.4540578 , 0.        ],\n",
       "       [0.47419461, 0.43834909, 1.        ],\n",
       "       [0.47538465, 0.82037964, 1.        ],\n",
       "       [0.75299641, 0.40671437, 0.        ],\n",
       "       [       nan,        nan, 1.        ]])"
      ]
     },
     "execution_count": 28,
     "metadata": {},
     "output_type": "execute_result"
    }
   ],
   "source": [
    "X_scale"
   ]
  },
  {
   "cell_type": "code",
   "execution_count": 29,
   "metadata": {},
   "outputs": [],
   "source": [
    "#Spliiting the dataset into training and testing set\n",
    "from sklearn.model_selection import train_test_split\n",
    "\n",
    "X_train, X_val_and_test, Y_train, Y_val_and_test = train_test_split(X_scale, Y, test_size=0.3)\n",
    "\n",
    "X_val, X_test, Y_val, Y_test = train_test_split(X_val_and_test, Y_val_and_test, test_size=0.5)"
   ]
  },
  {
   "cell_type": "code",
   "execution_count": 30,
   "metadata": {},
   "outputs": [
    {
     "name": "stdout",
     "output_type": "stream",
     "text": [
      "(140, 3) (30, 3) (31, 3) (140,) (30,) (31,)\n"
     ]
    }
   ],
   "source": [
    "print(X_train.shape, X_val.shape, X_test.shape, Y_train.shape, Y_val.shape, Y_test.shape)"
   ]
  },
  {
   "cell_type": "code",
   "execution_count": 31,
   "metadata": {},
   "outputs": [
    {
     "data": {
      "text/plain": [
       "Text(0.5, 1.0, 'Sigmoid Function')"
      ]
     },
     "execution_count": 31,
     "metadata": {},
     "output_type": "execute_result"
    },
    {
     "data": {
      "image/png": "[encoded data removed]",
      "text/plain": [
       "<Figure size 432x288 with 1 Axes>"
      ]
     },
     "metadata": {
      "needs_background": "light"
     },
     "output_type": "display_data"
    }
   ],
   "source": [
    "def sigmoid(X):\n",
    "    val = 1/(1+np.exp(-X))\n",
    "    return val\n",
    "\n",
    "output = sigmoid(X)\n",
    "\n",
    "plt.plot(X,Y)\n",
    "plt.xlabel(\"X\")\n",
    "plt.ylabel(\"Y\")\n",
    "plt.title(\"Sigmoid Function\")"
   ]
  },
  {
   "cell_type": "code",
   "execution_count": 32,
   "metadata": {},
   "outputs": [],
   "source": [
    "#Neural Network\n",
    "class NeuralNet():\n",
    "    '''\n",
    "    A two layer neural network\n",
    "    '''\n",
    "        \n",
    "    def __init__(self, layers=[13,8,1], learning_rate=0.001, iterations=100):\n",
    "        self.params = {}\n",
    "        self.learning_rate = learning_rate\n",
    "        self.iterations = iterations\n",
    "        self.loss = []\n",
    "        self.sample_size = None\n",
    "        self.layers = layers\n",
    "        self.X = None\n",
    "        self.y = None\n",
    "                \n",
    "    def init_weights(self):\n",
    "        '''\n",
    "        Initialize the weights from a random normal distribution\n",
    "        '''\n",
    "        np.random.seed(1) # Seed the random number generator\n",
    "        self.params[\"W1\"] = np.random.randn(self.layers[0], self.layers[1]) \n",
    "        self.params['b1']  =np.random.randn(self.layers[1],)\n",
    "        self.params['W2'] = np.random.randn(self.layers[1],self.layers[2]) \n",
    "        self.params['b2'] = np.random.randn(self.layers[2],)"
   ]
  },
  {
   "cell_type": "code",
   "execution_count": 33,
   "metadata": {},
   "outputs": [],
   "source": [
    "#Activation Function\n",
    "def relu(self,Z):\n",
    "        '''\n",
    "        The ReLu activation function is to performs a threshold\n",
    "        operation to each input element where values less \n",
    "        than zero are set to zero.\n",
    "        '''\n",
    "        return np.maximum(0,Z)"
   ]
  },
  {
   "cell_type": "code",
   "execution_count": 34,
   "metadata": {},
   "outputs": [
    {
     "data": {
      "text/plain": [
       "array([0., 0., 1., 1., 0., 1., 1., 0., 1., 0., 1., 0., 1., 1., 1., 0., 0.,\n",
       "       0., 1., 0., 0., 1., 1., 0., 1., 0., 1., 1., 1., 1., 0., 0., 0., 1.,\n",
       "       1., 0., 1., 1., 0., 0., 1., 1., 0., 0., 1., 1., 0., 0., 0., 1., 1.,\n",
       "       0., 1., 1., 0., 1., 0., 0., 1., 0., 0., 1., 0., 1., 0., 1., 0., 0.,\n",
       "       1., 0., 0., 1., 0., 1., 1., 1., 0., 1., 0., 0., 1., 1., 0., 1., 1.,\n",
       "       1., 0., 0., 0., 1., 1., 0., 0., 1., 0., 1., 1., 1., 1., 0., 1., 1.,\n",
       "       1., 0., 0., 0., 1., 0., 0., 1., 0., 0., 0., 0., 0., 0., 1., 0., 1.,\n",
       "       1., 0., 0., 0., 1., 0., 1., 0., 0., 1., 1., 1., 0., 0., 0., 1., 1.,\n",
       "       1., 1., 0., 1., 0., 1., 1., 0., 0., 0., 0., 1., 1., 0., 1., 1., 1.,\n",
       "       0., 0., 1., 0., 1., 1., 0., 0., 1., 1., 0., 1., 1., 1., 0., 1., 1.,\n",
       "       1., 0., 0., 0., 0., 1., 1., 1., 0., 0., 0., 1., 0., 1., 1., 1., 0.,\n",
       "       0., 1., 0., 0., 0., 0., 0., 0., 1., 0., 1., 1., 0., 1.])"
      ]
     },
     "execution_count": 34,
     "metadata": {},
     "output_type": "execute_result"
    }
   ],
   "source": [
    "relu(X,Y)"
   ]
  },
  {
   "cell_type": "code",
   "execution_count": 35,
   "metadata": {},
   "outputs": [],
   "source": [
    "#Sigmoid Function\n",
    "def sigmoid(self,Z):\n",
    "        '''\n",
    "        The sigmoid function takes in real numbers in any range and \n",
    "        squashes it to a real-valued output between 0 and 1.\n",
    "        '''\n",
    "        return 1.0/(1.0+np.exp(-Z))"
   ]
  },
  {
   "cell_type": "code",
   "execution_count": 36,
   "metadata": {},
   "outputs": [
    {
     "data": {
      "text/plain": [
       "array([0.5       , 0.5       , 0.73105858, 0.73105858, 0.5       ,\n",
       "       0.73105858, 0.73105858, 0.5       , 0.73105858, 0.5       ,\n",
       "       0.73105858, 0.5       , 0.73105858, 0.73105858, 0.73105858,\n",
       "       0.5       , 0.5       , 0.5       , 0.73105858, 0.5       ,\n",
       "       0.5       , 0.73105858, 0.73105858, 0.5       , 0.73105858,\n",
       "       0.5       , 0.73105858, 0.73105858, 0.73105858, 0.73105858,\n",
       "       0.5       , 0.5       , 0.5       , 0.73105858, 0.73105858,\n",
       "       0.5       , 0.73105858, 0.73105858, 0.5       , 0.5       ,\n",
       "       0.73105858, 0.73105858, 0.5       , 0.5       , 0.73105858,\n",
       "       0.73105858, 0.5       , 0.5       , 0.5       , 0.73105858,\n",
       "       0.73105858, 0.5       , 0.73105858, 0.73105858, 0.5       ,\n",
       "       0.73105858, 0.5       , 0.5       , 0.73105858, 0.5       ,\n",
       "       0.5       , 0.73105858, 0.5       , 0.73105858, 0.5       ,\n",
       "       0.73105858, 0.5       , 0.5       , 0.73105858, 0.5       ,\n",
       "       0.5       , 0.73105858, 0.5       , 0.73105858, 0.73105858,\n",
       "       0.73105858, 0.5       , 0.73105858, 0.5       , 0.5       ,\n",
       "       0.73105858, 0.73105858, 0.5       , 0.73105858, 0.73105858,\n",
       "       0.73105858, 0.5       , 0.5       , 0.5       , 0.73105858,\n",
       "       0.73105858, 0.5       , 0.5       , 0.73105858, 0.5       ,\n",
       "       0.73105858, 0.73105858, 0.73105858, 0.73105858, 0.5       ,\n",
       "       0.73105858, 0.73105858, 0.73105858, 0.5       , 0.5       ,\n",
       "       0.5       , 0.73105858, 0.5       , 0.5       , 0.73105858,\n",
       "       0.5       , 0.5       , 0.5       , 0.5       , 0.5       ,\n",
       "       0.5       , 0.73105858, 0.5       , 0.73105858, 0.73105858,\n",
       "       0.5       , 0.5       , 0.5       , 0.73105858, 0.5       ,\n",
       "       0.73105858, 0.5       , 0.5       , 0.73105858, 0.73105858,\n",
       "       0.73105858, 0.5       , 0.5       , 0.5       , 0.73105858,\n",
       "       0.73105858, 0.73105858, 0.73105858, 0.5       , 0.73105858,\n",
       "       0.5       , 0.73105858, 0.73105858, 0.5       , 0.5       ,\n",
       "       0.5       , 0.5       , 0.73105858, 0.73105858, 0.5       ,\n",
       "       0.73105858, 0.73105858, 0.73105858, 0.5       , 0.5       ,\n",
       "       0.73105858, 0.5       , 0.73105858, 0.73105858, 0.5       ,\n",
       "       0.5       , 0.73105858, 0.73105858, 0.5       , 0.73105858,\n",
       "       0.73105858, 0.73105858, 0.5       , 0.73105858, 0.73105858,\n",
       "       0.73105858, 0.5       , 0.5       , 0.5       , 0.5       ,\n",
       "       0.73105858, 0.73105858, 0.73105858, 0.5       , 0.5       ,\n",
       "       0.5       , 0.73105858, 0.5       , 0.73105858, 0.73105858,\n",
       "       0.73105858, 0.5       , 0.5       , 0.73105858, 0.5       ,\n",
       "       0.5       , 0.5       , 0.5       , 0.5       , 0.5       ,\n",
       "       0.73105858, 0.5       , 0.73105858, 0.73105858, 0.5       ,\n",
       "       0.73105858])"
      ]
     },
     "execution_count": 36,
     "metadata": {},
     "output_type": "execute_result"
    }
   ],
   "source": [
    "sigmoid(X,Y)"
   ]
  },
  {
   "cell_type": "code",
   "execution_count": 37,
   "metadata": {},
   "outputs": [],
   "source": [
    "#Loss Function\n",
    "def entropy_loss(self,y, yhat):\n",
    "        nsample = len(y)\n",
    "        loss = -1/nsample * (np.sum(np.multiply(np.log(yhat), y) + np.multiply((1 - y), np.log(1 - yhat))))\n",
    "        return loss"
   ]
  },
  {
   "cell_type": "code",
   "execution_count": 38,
   "metadata": {},
   "outputs": [],
   "source": [
    "#Forward Propagation\n",
    "    \n",
    "def forward_propagation(self):\n",
    "        '''\n",
    "        Performs the forward propagation\n",
    "        '''\n",
    "        \n",
    "        Z1 = self.X.dot(self.params['W1']) + self.params['b1']\n",
    "        A1 = self.relu(Z1)\n",
    "        Z2 = A1.dot(self.params['W2']) + self.params['b2']\n",
    "        yhat = self.sigmoid(Z2)\n",
    "        loss = self.entropy_loss(self.y,yhat)\n",
    "\n",
    "        # save calculated parameters     \n",
    "        self.params['Z1'] = Z1\n",
    "        self.params['Z2'] = Z2\n",
    "        self.params['A1'] = A1\n",
    "\n",
    "        return yhat,loss"
   ]
  },
  {
   "cell_type": "code",
   "execution_count": 39,
   "metadata": {},
   "outputs": [],
   "source": [
    "#Backward Propagation\n",
    "def back_propagation(self,yhat):\n",
    "        '''\n",
    "        Computes the derivatives and update weights and bias according.\n",
    "        '''\n",
    "        def dRelu(x):\n",
    "            x[x<=0] = 0\n",
    "            x[x>0] = 1\n",
    "            return x\n",
    "        \n",
    "        dl_wrt_yhat = -(np.divide(self.y,yhat) - np.divide((1 - self.y),(1-yhat)))\n",
    "        dl_wrt_sig = yhat * (1-yhat)\n",
    "        dl_wrt_z2 = dl_wrt_yhat * dl_wrt_sig\n",
    "\n",
    "        dl_wrt_A1 = dl_wrt_z2.dot(self.params['W2'].T)\n",
    "        dl_wrt_w2 = self.params['A1'].T.dot(dl_wrt_z2)\n",
    "        dl_wrt_b2 = np.sum(dl_wrt_z2, axis=0)\n",
    "\n",
    "        dl_wrt_z1 = dl_wrt_A1 * dRelu(self.params['Z1'])\n",
    "        dl_wrt_w1 = self.X.T.dot(dl_wrt_z1)\n",
    "        dl_wrt_b1 = np.sum(dl_wrt_z1, axis=0)\n"
   ]
  },
  {
   "cell_type": "code",
   "execution_count": 40,
   "metadata": {},
   "outputs": [],
   "source": [
    "def fit(self, X, y):\n",
    "        '''\n",
    "        Trains the neural network using the specified data and labels\n",
    "        '''\n",
    "        self.X = X\n",
    "        self.y = y\n",
    "        self.init_weights() #initialize weights and bias\n",
    "\n",
    "\n",
    "        for i in range(self.iterations):\n",
    "            yhat, loss = self.forward_propagation()\n",
    "            self.back_propagation(yhat)\n",
    "            self.loss.append(loss)"
   ]
  },
  {
   "cell_type": "code",
   "execution_count": 41,
   "metadata": {},
   "outputs": [],
   "source": [
    "def predict(self, X):\n",
    "        '''\n",
    "        Predicts on a test data\n",
    "        '''\n",
    "        Z1 = X.dot(self.params['W1']) + self.params['b1']\n",
    "        A1 = self.relu(Z1)\n",
    "        Z2 = A1.dot(self.params['W2']) + self.params['b2']\n",
    "        pred = self.sigmoid(Z2)\n",
    "        return np.round(pred)  "
   ]
  },
  {
   "cell_type": "code",
   "execution_count": 42,
   "metadata": {},
   "outputs": [],
   "source": [
    "def acc(self, y, yhat):\n",
    "        '''\n",
    "        Calculates the accuracy between the predicted valuea and the truth labels\n",
    "        '''\n",
    "        acc = int(sum(y == yhat) / len(y) * 100)\n",
    "        return acc"
   ]
  },
  {
   "cell_type": "code",
   "execution_count": 80,
   "metadata": {},
   "outputs": [
    {
     "name": "stdout",
     "output_type": "stream",
     "text": [
      "Train accuracy of sklearn neural network: 68.0\n",
      "Test accuracy of sklearn neural network: 66.0\n"
     ]
    }
   ],
   "source": [
    "sknet.fit(Xtrain, ytrain)\n",
    "preds_train = sknet.predict(Xtrain)\n",
    "preds_test = sknet.predict(Xtest)\n",
    "\n",
    "print(\"Train accuracy of sklearn neural network: {}\".format(round(accuracy_score(preds_train, ytrain),2)*100))\n",
    "print(\"Test accuracy of sklearn neural network: {}\".format(round(accuracy_score(preds_test, ytest),2)*100))"
   ]
  }
 ],
 "metadata": {
  "kernelspec": {
   "display_name": "Python 3",
   "language": "python",
   "name": "python3"
  },
  "language_info": {
   "codemirror_mode": {
    "name": "ipython",
    "version": 3
   },
   "file_extension": ".py",
   "mimetype": "text/x-python",
   "name": "python",
   "nbconvert_exporter": "python",
   "pygments_lexer": "ipython3",
   "version": "3.8.6"
  }
 },
 "nbformat": 4,
 "nbformat_minor": 4
}
